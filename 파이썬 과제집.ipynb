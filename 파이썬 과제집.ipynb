{
 "cells": [
  {
   "cell_type": "code",
   "execution_count": 2,
   "id": "53ef3e3e",
   "metadata": {},
   "outputs": [
    {
     "name": "stdout",
     "output_type": "stream",
     "text": [
      "집에 가자. \"코드야\".\n"
     ]
    }
   ],
   "source": [
    "# 화면에 집에 가자. \"코드야\". 문자열을 출력하세요.\n",
    "\n",
    "print(\"집에 가자. \\\"코드야\\\".\")"
   ]
  },
  {
   "cell_type": "code",
   "execution_count": 3,
   "id": "b9699033",
   "metadata": {},
   "outputs": [
    {
     "name": "stdout",
     "output_type": "stream",
     "text": [
      "naver/kakao/sk/samsung\n"
     ]
    }
   ],
   "source": [
    "# print() 함수를 사용하여 다음과 같이 출력하세요\n",
    "# naver/kakao/sk/samsung\n",
    "\n",
    "print(\"naver/kakao/sk/samsung\")"
   ]
  },
  {
   "cell_type": "code",
   "execution_count": 6,
   "id": "8142f8d0",
   "metadata": {},
   "outputs": [
    {
     "name": "stdout",
     "output_type": "stream",
     "text": [
      "원의 반지름을 입력하세요 : 2\n",
      "원의 넓이는 12.56\n"
     ]
    }
   ],
   "source": [
    "# 원의 반지름을 입력 받아서 원의 면적을 구하는 프로그램을 만들어보세요.\n",
    "\n",
    "r = int(input(\"원의 반지름을 입력하세요 : \"))\n",
    "print(\"원의 넓이는\", r**2*3.14)"
   ]
  },
  {
   "cell_type": "code",
   "execution_count": 2,
   "id": "01b329d5",
   "metadata": {},
   "outputs": [
    {
     "name": "stdout",
     "output_type": "stream",
     "text": [
      "음식 가격을 입력하세요 : 10000\n",
      "총 지불할 금액은 12550.0\n"
     ]
    }
   ],
   "source": [
    "# A 나라에는 음식 가격에 세금이 포함되어 있지 않으며, 음식 가격 외에 팁을 지불하는 문화가 있다.\n",
    "# 이 나라에서 사용할 음식 가격 계산 프로그램을 작성해보자\n",
    "\n",
    "'''\n",
    "이 프로그램은 음식 가격을 입력 받아 세금과 팁을 포함한 지불 총액을 계산하여 출력한다.\n",
    "세금은 음식 가격의 10.5% 이며, 팁은 음식 가격의 15%이다.\n",
    "'''\n",
    "\n",
    "price = int(input(\"음식 가격을 입력하세요 : \"))\n",
    "print(\"총 지불할 금액은\", price + price * 0.105 + price * 0.15)"
   ]
  },
  {
   "cell_type": "code",
   "execution_count": 6,
   "id": "9b5b3cfb",
   "metadata": {},
   "outputs": [
    {
     "name": "stdout",
     "output_type": "stream",
     "text": [
      "짝짝짝"
     ]
    }
   ],
   "source": [
    "# 아래의 문자열에서 \"짝\"만 출력하세요\n",
    "string = \"홀짝홀짝홀짝\"\n",
    "\n",
    "for i in range(len(string)) :\n",
    "    if string[i] == \"짝\" :\n",
    "        print(string[i], end=\"\")"
   ]
  },
  {
   "cell_type": "code",
   "execution_count": 7,
   "id": "debb4af0",
   "metadata": {},
   "outputs": [
    {
     "name": "stdout",
     "output_type": "stream",
     "text": [
      "01011112222"
     ]
    }
   ],
   "source": [
    "# 아래의 전화번호에서 하이폰을 제거하고 출력하세요\n",
    "phone_number = \"010-1111-2222\"\n",
    "\n",
    "for i in range(len(phone_number)) :\n",
    "    if phone_number[i] != \"-\" :\n",
    "        print(phone_number[i], end=\"\")"
   ]
  },
  {
   "cell_type": "code",
   "execution_count": 8,
   "id": "16fc25f1",
   "metadata": {},
   "outputs": [
    {
     "name": "stdout",
     "output_type": "stream",
     "text": [
      "84 12 13\n"
     ]
    }
   ],
   "source": [
    "# 김메리의 주민등록번호는 841213-1098323이다\n",
    "# 태어난 년도, 월, 일을 각각 변수에 저장해서 출력해보자\n",
    "user_id = \"841213-1098323\"\n",
    "birth_year = user_id[:2]\n",
    "birth_month = user_id[2:4]\n",
    "birth_day = user_id[4:6]\n",
    "\n",
    "print(birth_year, birth_month, birth_day)\n"
   ]
  },
  {
   "cell_type": "code",
   "execution_count": 10,
   "id": "17e92a77",
   "metadata": {},
   "outputs": [
    {
     "data": {
      "text/plain": [
       "['닥터 스트레인지', '스플릿', '럭키']"
      ]
     },
     "execution_count": 10,
     "metadata": {},
     "output_type": "execute_result"
    }
   ],
   "source": [
    "# 2016년 11월 영화 예매 순위 기준 top3는 아래와 같을 때,\n",
    "# 순위    영화\n",
    "# 1      닥터 스트레인지\n",
    "# 2      스플릿\n",
    "# 3      럭키\n",
    "# 영화 제목을 movie_rank 이름의 리스트에 저장하세요 (순위 정보는 저장하지 않는다)\n",
    "movie_rank = [\"닥터 스트레인지\", \"스플릿\", \"럭키\"]\n",
    "movie_rank"
   ]
  },
  {
   "cell_type": "code",
   "execution_count": 20,
   "id": "a9b0cd89",
   "metadata": {},
   "outputs": [
    {
     "name": "stdout",
     "output_type": "stream",
     "text": [
      "go home\n"
     ]
    }
   ],
   "source": [
    "# 리스트가 아래와 같을 때, go home을 출력하세요\n",
    "a = [\"a\", \"g\", \"o\", [\"h\", \"o\"], \"j\", \"w\", [\"m\"], \"e\"]\n",
    "\n",
    "print(a[1]+a[2], a[3][0]+a[3][1]+a[6][0]+a[7])"
   ]
  },
  {
   "cell_type": "code",
   "execution_count": 22,
   "id": "021eaf0f",
   "metadata": {},
   "outputs": [
    {
     "data": {
      "text/plain": [
       "['라이온킹', '명탐정 코난', '스파이더맨', '토이스토리']"
      ]
     },
     "execution_count": 22,
     "metadata": {},
     "output_type": "execute_result"
    }
   ],
   "source": [
    "# 다음과 같이 영화 리스트가 있다. 영화 순위가 바뀌었을 때, 처음 리스트를 이용하여 변경해보자\n",
    "# 알라딘이 명탐정 코난으로 바뀜\n",
    "movie = [\"라이온킹\", \"알라딘\", \"스파이더맨\", \"토이스토리\"]\n",
    "movie[1] = \"명탐정 코난\"\n",
    "movie"
   ]
  },
  {
   "cell_type": "code",
   "execution_count": 28,
   "id": "215b4f29",
   "metadata": {},
   "outputs": [
    {
     "data": {
      "text/plain": [
       "['TV', '컴퓨터', '청소기', '냉장고', '에어컨']"
      ]
     },
     "execution_count": 28,
     "metadata": {},
     "output_type": "execute_result"
    }
   ],
   "source": [
    "# 리스트 함수만 사용하여, 다음과 같은 코드를 완성해보자\n",
    "# 1. goods 라는 이름으로 비어있는 리스트를 만든다\n",
    "# 2. 아래 그림과 같이 리스트의 원소를 채운다 (리스트 함수만을 이용할 것!)\n",
    "# ['TV', '컴퓨터', '청소기', '냉장고', '에어컨']\n",
    "# 3. 리스트 원소 '컴퓨터'를 '노트북'으로 바꾼다\n",
    "# 4. goods 리스트의 순서는 구매 우선순위를 의미한다 청소기와 에어컨의 위치를 변경한다\n",
    "\n",
    "goods = []\n",
    "goods.extend(['TV', '컴퓨터', '청소기', '냉장고', '에어컨'])\n",
    "goods\n"
   ]
  },
  {
   "cell_type": "code",
   "execution_count": 35,
   "id": "e06a877d",
   "metadata": {},
   "outputs": [
    {
     "name": "stdout",
     "output_type": "stream",
     "text": [
      "6\n"
     ]
    }
   ],
   "source": [
    "# 아래 코드의 실행 결과를 예측하고, 각 a, b, c가 의미하는 것을 쓰세요\n",
    "my_tuple = (1, 2, 3)\n",
    "a, b, c = my_tuple\n",
    "print(a+b+c)"
   ]
  },
  {
   "cell_type": "code",
   "execution_count": 36,
   "id": "c685cd2e",
   "metadata": {},
   "outputs": [
    {
     "data": {
      "text/plain": [
       "{'메로나': 1000, '폴라포': 1200, '빵빠레': 1800}"
      ]
     },
     "execution_count": 36,
     "metadata": {},
     "output_type": "execute_result"
    }
   ],
   "source": [
    "# 다음 아이스크림 이름과 희망 가격을 딕셔너리로 만드세요\n",
    "# 이름     희망가격\n",
    "# 메로나    1000\n",
    "# 폴라포    1200\n",
    "# 빵빠레    1800\n",
    "\n",
    "dic = {\"메로나\":1000, \"폴라포\":1200, \"빵빠레\":1800}\n",
    "dic"
   ]
  },
  {
   "cell_type": "code",
   "execution_count": 37,
   "id": "9c1197d3",
   "metadata": {},
   "outputs": [
    {
     "name": "stdout",
     "output_type": "stream",
     "text": [
      "1200\n"
     ]
    }
   ],
   "source": [
    "# 아래의 딕셔너리에서 폴라포 key가 있는지 조사하기 위한 코드를 작성하고, 출력결과도 예측하세요\n",
    "icecream = {\"탱크보이\":1200, \"폴라포\":1200, \"빵빠레\":1800, \"월드콘\":1500, \"메로나\":1000}\n",
    "print(icecream[\"폴라포\"])"
   ]
  },
  {
   "cell_type": "code",
   "execution_count": 42,
   "id": "3b10e401",
   "metadata": {},
   "outputs": [
    {
     "name": "stdout",
     "output_type": "stream",
     "text": [
      "금액을 입력하세요 : 100\n",
      "통화명을 입력하세요 : 달러\n",
      "116700.0원\n"
     ]
    }
   ],
   "source": [
    "# 사용자로부터 달러, 엔, 유로 또는 위안 금액을 입력 받은 후, 이를 원으로 변환하는 프로그램을 작성해보자.\n",
    "# 통화 명         환율\n",
    "# 달러           1167\n",
    "# 엔            1.096\n",
    "# 유로           1268\n",
    "# 위안           171\n",
    "\n",
    "money = float(input(\"금액을 입력하세요 : \"))\n",
    "index = input(\"통화명을 입력하세요 : \")\n",
    "answer = 0\n",
    "if index == \"달러\" :\n",
    "    answer = money * 1167\n",
    "if index == \"엔\" :\n",
    "    answer = money * 1.096\n",
    "if index == \"유로\" :\n",
    "    answer = money * 1268\n",
    "if index == \"위안\" :\n",
    "    answer = money * 171\n",
    "print(answer, \"원\", sep=\"\")\n"
   ]
  },
  {
   "cell_type": "code",
   "execution_count": 47,
   "id": "15222049",
   "metadata": {},
   "outputs": [
    {
     "name": "stdout",
     "output_type": "stream",
     "text": [
      "주민등록번호 : 000319-3000000\n",
      "남자\n"
     ]
    }
   ],
   "source": [
    "# 주민등록번호 뒷자리 7자리 중 첫째 자리는 성별을 나타내는데 1,3은 남자 2,4은 여자를 의미한다\n",
    "# 사용자로부터 13자리의 주민번호를 입력 받은 후, 성별을 출력하는 프로그램을 작성하라\n",
    "sex = \"\"\n",
    "user_id = input(\"주민등록번호 : \")\n",
    "if user_id[7] == \"1\" or user_id[7] == \"3\" :\n",
    "    sex = \"남자\"\n",
    "elif user_id[7] == \"2\" or user_id[7] == \"4\" :\n",
    "    sex = \"여자\"\n",
    "else :\n",
    "    sex = \"외계인\"\n",
    "\n",
    "print(sex)"
   ]
  },
  {
   "cell_type": "code",
   "execution_count": 48,
   "id": "88ec95aa",
   "metadata": {},
   "outputs": [
    {
     "name": "stdout",
     "output_type": "stream",
     "text": [
      "첫번째 높이 입력 : 170\n",
      "두번째 높이 입력 : 172\n",
      "세번째 높이 입력 : 173\n",
      "PASS!!\n"
     ]
    }
   ],
   "source": [
    "# 터널 통과하기\n",
    "# 어떤 차의 높이가 170cm이다. 이 차는 3개의 터널을 통과하게 된다.\n",
    "# 터널의 높이가 차의 높이보다 같거나 낮다면 충돌하여 사고가 날 것이다.\n",
    "# 터널의 높이 3개를 차례대로 사용자 입력하여 모두 통과하면 PASS를, 사고가 난다면 CRASH를 출력\n",
    "# 이 문제를 2가지 이상의 방법으로 해결하라\n",
    "\n",
    "# 터널 통과 함수 작성\n",
    "def tunnel(length1, length2, length3) :\n",
    "    limit = 170\n",
    "    if length1 >= limit and length2 >= limit and length3 >= limit :\n",
    "        return \"PASS!!\"\n",
    "    else :\n",
    "        return \"CRUSH!!\"\n",
    "\n",
    "# 길이 값 입력\n",
    "length1 = int(input(\"첫번째 높이 입력 : \"))\n",
    "length2 = int(input(\"두번째 높이 입력 : \"))\n",
    "length3 = int(input(\"세번째 높이 입력 : \"))\n",
    "\n",
    "print(tunnel(length1, length2, length3))\n"
   ]
  },
  {
   "cell_type": "code",
   "execution_count": 1,
   "id": "b4f01616",
   "metadata": {},
   "outputs": [
    {
     "name": "stdout",
     "output_type": "stream",
     "text": [
      "구구단 중에서 출력하고 싶은 단을 입력 하시오 : 9\n",
      "9 * 1 = 9\n",
      "9 * 2 = 18\n",
      "9 * 3 = 27\n",
      "9 * 4 = 36\n",
      "9 * 5 = 45\n",
      "9 * 6 = 54\n",
      "9 * 7 = 63\n",
      "9 * 8 = 72\n",
      "9 * 9 = 81\n"
     ]
    }
   ],
   "source": [
    "# 구구단 프로그램을 작성해 보시오\n",
    "n = int(input(\"구구단 중에서 출력하고 싶은 단을 입력 하시오 : \"))\n",
    "count = 1\n",
    "while n >= count :\n",
    "    print(\"%d * %d = %d\" %(n, count, n*count))\n",
    "    count += 1"
   ]
  },
  {
   "cell_type": "code",
   "execution_count": 11,
   "id": "9be4f18b",
   "metadata": {},
   "outputs": [
    {
     "name": "stdout",
     "output_type": "stream",
     "text": [
      "정수를 입력 하시오 : 3\n",
      "1부터 3까지의 합은 6입니다\n"
     ]
    }
   ],
   "source": [
    "# 정수의 합을 구하는 프로그램을 작성해 보시오.\n",
    "n = int(input(\"정수를 입력 하시오 : \"))\n",
    "answer = 0\n",
    "for i in range(1, n+1) :\n",
    "    answer += i\n",
    "\n",
    "print(\"%d부터 %d까지의 합은 %d입니다\" %(1, n, answer))"
   ]
  },
  {
   "cell_type": "code",
   "execution_count": 17,
   "id": "fa7aa0a8",
   "metadata": {},
   "outputs": [
    {
     "name": "stdout",
     "output_type": "stream",
     "text": [
      "값을 입력하시오 (정수가 아닌 숫자를 입력 시 종료됩니다) : 30\n",
      "값을 입력하시오 (정수가 아닌 숫자를 입력 시 종료됩니다) : 2\n",
      "값을 입력하시오 (정수가 아닌 숫자를 입력 시 종료됩니다) : 1\n",
      "값을 입력하시오 (정수가 아닌 숫자를 입력 시 종료됩니다) : ㅋㅋ 하이티비\n",
      "합계는 33입니다.\n"
     ]
    }
   ],
   "source": [
    "# 입력한 정수의 합을 구하는 프로그램을 작성해 보시오.\n",
    "sum = 0\n",
    "while True :\n",
    "    try :\n",
    "        n = int(input(\"값을 입력하시오 (정수가 아닌 숫자를 입력 시 종료됩니다) : \"))\n",
    "        sum += n\n",
    "    except :\n",
    "        break\n",
    "print(\"합계는 %d입니다.\" % sum)"
   ]
  },
  {
   "cell_type": "code",
   "execution_count": 20,
   "id": "0ea467c7",
   "metadata": {},
   "outputs": [
    {
     "name": "stdout",
     "output_type": "stream",
     "text": [
      "숫자를 입력하세요 : 1239123\n",
      "거꾸로 뒤집은 숫자는 : 3219321"
     ]
    }
   ],
   "source": [
    "# 입력 받은 숫자를 거꾸로 뒤집어 출력해보자.\n",
    "num = int(input(\"숫자를 입력하세요 : \"))\n",
    "print(\"거꾸로 뒤집은 숫자는 : \", end=\"\")\n",
    "while num :\n",
    "    print(num % 10, end=\"\")\n",
    "    num = int(num // 10)"
   ]
  },
  {
   "cell_type": "code",
   "execution_count": 72,
   "id": "3ccbe7bb",
   "metadata": {},
   "outputs": [
    {
     "name": "stdout",
     "output_type": "stream",
     "text": [
      "num1 : 5\n",
      "num2 : 0\n"
     ]
    }
   ],
   "source": [
    "# 10개의 수가 입력된 아래와 같은 2개의 리스트가 주어진다\n",
    "num1 = [1, 2, 3, 4, 5, 6, 7, 8, 9, 10]\n",
    "num2 = [1, 2, 3, 4, 6, 7, 8, 9, 11, 12]\n",
    "\n",
    "# 각 리스트 변수에서, 10개의 수 중 5의 배수 하나만 출력한다\n",
    "# 만약 5의 배수가 없다면 0을 출력한다\n",
    "        \n",
    "def mul(num) :\n",
    "    answer = 0\n",
    "    for i in range(len(num)) : \n",
    "        if num[i] % 5 == 0 :\n",
    "            answer = num[i]\n",
    "            break\n",
    "    return answer\n",
    "    \n",
    "print(\"num1 : %d\\nnum2 : %d\" % (mul(num1), mul(num2)))"
   ]
  },
  {
   "cell_type": "code",
   "execution_count": 63,
   "id": "e972594c",
   "metadata": {},
   "outputs": [
    {
     "name": "stdout",
     "output_type": "stream",
     "text": [
      "3\n",
      "12\n",
      "16\n"
     ]
    }
   ],
   "source": [
    "# my_list에서 3의 배수이거나 4의 배수를 화면에 출력하라\n",
    "my_list = [3, 1, 7, 12, 5, 16]\n",
    "for i in range(len(my_list)) :\n",
    "    if my_list[i] % 3 == 0 or my_list[i] % 4 == 0 :\n",
    "        print(my_list[i])"
   ]
  },
  {
   "cell_type": "code",
   "execution_count": 1,
   "id": "6214d62f",
   "metadata": {},
   "outputs": [
    {
     "name": "stdout",
     "output_type": "stream",
     "text": [
      "몇부터? : 3\n",
      "3\n",
      "2\n",
      "1\n",
      "0\n"
     ]
    }
   ],
   "source": [
    "# 다음과 같이, 숫자를 하나 입력 받아 0까지 카운트다운을 수행하는 프로그램을 작성하라\n",
    "import time\n",
    "n = int(input(\"몇부터? : \"))\n",
    "while n >= 0 :\n",
    "    print(n)\n",
    "    n -= 1\n",
    "    time.sleep(1)\n",
    "    "
   ]
  },
  {
   "cell_type": "code",
   "execution_count": 4,
   "id": "0676e304",
   "metadata": {},
   "outputs": [
    {
     "name": "stdout",
     "output_type": "stream",
     "text": [
      "홀수 개수 : 4\n",
      "짝수 개수 : 6\n"
     ]
    }
   ],
   "source": [
    "# for문을 이용하여, 주어진 리스트에서 홀수와 짝수의 개수를 출력하는 프로그램을 작성해 보시오\n",
    "# 리스트 변수 : \n",
    "num = [1, 2, 5, 6, 15, 18, 22, 64, 77, 82]\n",
    "odd_count = 0\n",
    "even_count = 0\n",
    "\n",
    "for i in num :\n",
    "    if i % 2 == 0 :\n",
    "        even_count += 1\n",
    "    else :\n",
    "        odd_count += 1\n",
    "        \n",
    "print(\"홀수 개수 : %s\\n짝수 개수 : %s\" % (odd_count, even_count))"
   ]
  },
  {
   "cell_type": "code",
   "execution_count": 8,
   "id": "c554dc8e",
   "metadata": {},
   "outputs": [
    {
     "name": "stdout",
     "output_type": "stream",
     "text": [
      "14 385\n"
     ]
    }
   ],
   "source": [
    "# 1부터 N까지 제곱의 합을 구하는 함수를 작성해봅시다\n",
    "def sum_sq(n) :\n",
    "    total = 0\n",
    "    for i in range(1, n+1) :\n",
    "        total += i**2\n",
    "    return total\n",
    "        \n",
    "print(sum_sq(3), sum_sq(10))\n",
    "    "
   ]
  },
  {
   "cell_type": "code",
   "execution_count": 11,
   "id": "b5ec07ba",
   "metadata": {},
   "outputs": [
    {
     "data": {
      "text/plain": [
       "82"
      ]
     },
     "execution_count": 11,
     "metadata": {},
     "output_type": "execute_result"
    }
   ],
   "source": [
    "# 주어진 정수 리스트의 최대값을 출력하는 함수 만들기\n",
    "# 리스트 변수 :\n",
    "numlist = [1, 2, 5, 6, 15, 18, 22, 64, 77, 82]\n",
    "\n",
    "def max_num(numlist) :\n",
    "    answer = 0\n",
    "    for i in numlist :\n",
    "        if i > answer :\n",
    "            answer = i\n",
    "    return answer\n",
    "\n",
    "max_num(numlist)"
   ]
  },
  {
   "cell_type": "code",
   "execution_count": 18,
   "id": "10d41b0a",
   "metadata": {},
   "outputs": [
    {
     "name": "stdout",
     "output_type": "stream",
     "text": [
      "36 56\n"
     ]
    }
   ],
   "source": [
    "# odd_sum와 even_sum이라는 이름의 두 함수를 정의한다\n",
    "# 두 함수는 각각 어떤 수 n을 입력 받아 1부터 n까지의 홀수의 합과 짝수의 합을 구하는 함수이다\n",
    "# 함수 정의 이후, odd_sum(12)와 even_sum(15)를 호출하여 결과 값 확인한다\n",
    "\n",
    "def odd_sum(n) :\n",
    "    answer = 0\n",
    "    for i in range(1, n+1) :\n",
    "        if i % 2 != 0 :\n",
    "            answer += i\n",
    "    return answer\n",
    "\n",
    "def even_sum(n) :\n",
    "    answer = 0\n",
    "    for i in range(1, n+1) :\n",
    "        if i % 2 == 0 :\n",
    "            answer += i\n",
    "    return answer\n",
    "\n",
    "print(odd_sum(12), even_sum(15))"
   ]
  },
  {
   "cell_type": "code",
   "execution_count": 33,
   "id": "85e40132",
   "metadata": {},
   "outputs": [
    {
     "data": {
      "text/plain": [
       "[3, 6]"
      ]
     },
     "execution_count": 33,
     "metadata": {},
     "output_type": "execute_result"
    }
   ],
   "source": [
    "# 리스트에서 특정 숫자의 위치를 찾는 함수를 작성해봅시다\n",
    "# 입력 : 리스트 a, 찾는 값 x\n",
    "# 출력 : 찾는 값의 위치 번호가 담긴 리스트\n",
    "#       찾는 값이 없으면, 빈 리스트\n",
    "def search_list(li, index) :\n",
    "    answer = []\n",
    "    for i in range(len(li)) :\n",
    "        if li[i] == index :\n",
    "            answer.append(i)\n",
    "    return answer\n",
    "\n",
    "v = [17, 92, 18, 33, 58, 7, 33, 42]\n",
    "search_list(v, 33)"
   ]
  },
  {
   "cell_type": "code",
   "execution_count": 52,
   "id": "29ea6fbc",
   "metadata": {},
   "outputs": [
    {
     "data": {
      "text/plain": [
       "'표준'"
      ]
     },
     "execution_count": 52,
     "metadata": {},
     "output_type": "execute_result"
    }
   ],
   "source": [
    "# BMI 값에 따라 체형을 분류하는 함수를 작성해보자\n",
    "# BMI < 18.5 마른 체형\n",
    "# 18.5 <= BMI < 25.0 표준\n",
    "# 25.0 <= BMI < 30.0 비만\n",
    "# BMI >= 30.0 고도 비만\n",
    "\n",
    "# 함수의 인자로 체중(kg)과 신장(cm)을 받은 후 BMI 값에 따라 출력하는 함수를 작성\n",
    "\n",
    "# BMI = 키(kg) / 키(m)^2\n",
    "\n",
    "# class 사용.. 부족함\n",
    "class main() :\n",
    "    def bmi(kg, h) :\n",
    "        bmi = kg / ((h * 0.01) ** 2)\n",
    "        answer = main.classification(bmi)\n",
    "        return answer\n",
    "    \n",
    "    def classification(bmi) :\n",
    "        if bmi >= 30.0 :\n",
    "            return \"고도 비만\"\n",
    "        elif bmi >= 25.0 :\n",
    "            return \"비만\"\n",
    "        elif bmi >= 18.5 :\n",
    "            return \"표준\"\n",
    "        else :\n",
    "            return \"마른 체형\"\n",
    "    \n",
    "main.bmi(63,178)"
   ]
  },
  {
   "cell_type": "code",
   "execution_count": 4,
   "id": "96fc506d",
   "metadata": {},
   "outputs": [
    {
     "name": "stdout",
     "output_type": "stream",
     "text": [
      "구구단 프로그램을 실행합니다.\n",
      "1. 홀수 구구단\n",
      "2. 짝수 구구단\n",
      "3. 종료\n",
      "2\n",
      "2 * 1 = 2\n",
      "2 * 2 = 4\n",
      "2 * 3 = 6\n",
      "2 * 4 = 8\n",
      "2 * 5 = 10\n",
      "2 * 6 = 12\n",
      "2 * 7 = 14\n",
      "2 * 8 = 16\n",
      "2 * 9 = 18\n",
      "\n",
      "\n",
      "4 * 1 = 4\n",
      "4 * 2 = 8\n",
      "4 * 3 = 12\n",
      "4 * 4 = 16\n",
      "4 * 5 = 20\n",
      "4 * 6 = 24\n",
      "4 * 7 = 28\n",
      "4 * 8 = 32\n",
      "4 * 9 = 36\n",
      "\n",
      "\n",
      "6 * 1 = 6\n",
      "6 * 2 = 12\n",
      "6 * 3 = 18\n",
      "6 * 4 = 24\n",
      "6 * 5 = 30\n",
      "6 * 6 = 36\n",
      "6 * 7 = 42\n",
      "6 * 8 = 48\n",
      "6 * 9 = 54\n",
      "\n",
      "\n",
      "8 * 1 = 8\n",
      "8 * 2 = 16\n",
      "8 * 3 = 24\n",
      "8 * 4 = 32\n",
      "8 * 5 = 40\n",
      "8 * 6 = 48\n",
      "8 * 7 = 56\n",
      "8 * 8 = 64\n",
      "8 * 9 = 72\n",
      "\n",
      "\n",
      "구구단 프로그램을 실행합니다.\n",
      "1. 홀수 구구단\n",
      "2. 짝수 구구단\n",
      "3. 종료\n",
      "3\n",
      "프로그램을 종료합니다\n"
     ]
    }
   ],
   "source": [
    "#### 구구단 프로그램을 작성해보자\n",
    "# 1번을 입력하면 홀수 단 (3, 5, 7, 9)\n",
    "# 2번을 입력하면 짝수 단 (2, 4, 6, 8)\n",
    "# 3번을 입력하면 종료\n",
    "# 그 외의 숫자를 입력하면 처음부터 다시 입력\n",
    "while True :\n",
    "    choice = int(input(\"구구단 프로그램을 실행합니다.\\n1. 홀수 구구단\\n2. 짝수 구구단\\n3. 종료\\n\"))\n",
    "    if choice == 1 :\n",
    "        for i in range(3,10,2) :\n",
    "            count = 0\n",
    "            for j in range(1,10) :\n",
    "                print(\"%d * %d = %d\" %(i, j, i*j))\n",
    "            print(\"\\n\")\n",
    "    elif choice == 2 :\n",
    "        for i in range(2,9,2) :\n",
    "            count = 0\n",
    "            for j in range(1,10) :\n",
    "                print(\"%d * %d = %d\" %(i, j, i*j))\n",
    "            print(\"\\n\")\n",
    "    elif choice == 3 :\n",
    "        print(\"프로그램을 종료합니다\")\n",
    "        break"
   ]
  },
  {
   "cell_type": "code",
   "execution_count": 32,
   "id": "1cc2f643",
   "metadata": {},
   "outputs": [
    {
     "name": "stdout",
     "output_type": "stream",
     "text": [
      "숫자 하나를 입력하세요 : 1\n",
      "1/6\n",
      "숫자 하나를 입력하세요 : 2\n",
      "2/6\n",
      "숫자 하나를 입력하세요 : 3\n",
      "3/6\n",
      "숫자 하나를 입력하세요 : 4\n",
      "4/6\n",
      "숫자 하나를 입력하세요 : 5\n",
      "5/6\n",
      "숫자 하나를 입력하세요 : 6\n",
      "6/6\n",
      "당신이 입력한 숫자 : [1, 2, 3, 4, 5, 6]\n",
      "추첨을 시작합니다\n",
      "22 9 1 23 3 28 보너스 숫자 : 45\n",
      "추첨 결과 : [1, 3, 9, 22, 23, 28]\n",
      "총 2개의 숫자를 맞추셨습니다\n",
      "꽝입니다\n"
     ]
    }
   ],
   "source": [
    "# 복권 맞추기 프로그램을 작성해보자\n",
    "# 1 ~ 99 까지 번호 중 하나를 입력한다\n",
    "# 사용자가 번호의 순서와 숫자를 모두 정확하게 맞추면 100만원\n",
    "# 순서는 틀렸지만 숫자가 모두 맞다면 50만원\n",
    "# 순서에 상관없이 숫자 하나가 동일하다면 10만원\n",
    "# 그 외 꽝\n",
    "\n",
    "\n",
    "\"\"\"\n",
    "조건이 부족하여 실제 복권 시스템으로 작성\n",
    "숫자는 기본 6개 + 보너스 1개\n",
    "\n",
    "1등은 당첨번호 6개 숫자 일치\n",
    "2등은 당첨번호 5개와 보너스 숫자 일치\n",
    "3등은 당첨번호 5개 일치\n",
    "4등은 당첨번호 4개 일치\n",
    "5등은 당첨번호 3개가 일치\n",
    "번호는 1 ~ 45번 중복은 없음\n",
    "\"\"\"\n",
    "import random\n",
    "import time\n",
    "\n",
    "i = 1\n",
    "choice_number = []\n",
    "while i <= 6 :\n",
    "    number = input(\"숫자 하나를 입력하세요 : \")\n",
    "    \n",
    "    # 공백 오류 처리\n",
    "    try :\n",
    "        number = int(number)\n",
    "    except :\n",
    "        print(\"공백입니다. 다시 입력하세요\")\n",
    "        continue\n",
    "        \n",
    "    # 1 ~ 45 사이의 자연수가 아닐 경우 리턴\n",
    "    if number > 45 or number < 1 or number % 1 != 0 or number in choice_number :\n",
    "        print(\"잘못된 값입니다. 다시 입력하세요\")\n",
    "    else :\n",
    "        choice_number.append(number)\n",
    "        print(\"%d/6\" % i)\n",
    "        i += 1\n",
    "    \n",
    "choice_number.sort()\n",
    "\n",
    "print(\"당신이 입력한 숫자 :\", choice_number)\n",
    "\n",
    "number_list = []\n",
    "for i in range(1, 46) :\n",
    "    number_list.append(i)\n",
    "\n",
    "gotcha = []\n",
    "print(\"추첨을 시작합니다\")\n",
    "for i in range(1, 7) :\n",
    "    number = random.choice(number_list)\n",
    "    number_list.remove(number)\n",
    "    print(number, end=\" \")\n",
    "    gotcha.append(number)\n",
    "    time.sleep(1)\n",
    "\n",
    "bonus = random.choice(number_list)\n",
    "number_list.remove(bonus)\n",
    "print(\"보너스 숫자 :\", bonus)\n",
    "\n",
    "\n",
    "gotcha.sort()\n",
    "print(\"추첨 결과 :\", gotcha)\n",
    "\n",
    "\n",
    "count = 0\n",
    "for i in choice_number[0:6] :\n",
    "    if i in gotcha :\n",
    "        count += 1\n",
    "print(\"총 %d개의 숫자를 맞추셨습니다\" % count)\n",
    "\n",
    "if count == 6 :\n",
    "    print(\"1등입니다!\")\n",
    "elif count == 5 :\n",
    "    if bonus in number_list :\n",
    "        print(\"보너스 번호를 맞추셨습니다!\\n2등입니다!\")\n",
    "    else :\n",
    "        print(\"3등입니다\")\n",
    "elif count == 4 :\n",
    "    print(\"4등입니다!\")\n",
    "elif count == 3 :\n",
    "    print(\"5등입니다!\")\n",
    "else :\n",
    "    print(\"꽝입니다\")"
   ]
  },
  {
   "cell_type": "code",
   "execution_count": null,
   "id": "35b14487",
   "metadata": {},
   "outputs": [],
   "source": []
  },
  {
   "cell_type": "code",
   "execution_count": null,
   "id": "b6db7117",
   "metadata": {},
   "outputs": [],
   "source": []
  }
 ],
 "metadata": {
  "kernelspec": {
   "display_name": "Python 3 (ipykernel)",
   "language": "python",
   "name": "python3"
  },
  "language_info": {
   "codemirror_mode": {
    "name": "ipython",
    "version": 3
   },
   "file_extension": ".py",
   "mimetype": "text/x-python",
   "name": "python",
   "nbconvert_exporter": "python",
   "pygments_lexer": "ipython3",
   "version": "3.9.12"
  }
 },
 "nbformat": 4,
 "nbformat_minor": 5
}
