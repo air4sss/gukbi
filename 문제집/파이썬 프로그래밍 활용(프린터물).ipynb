{
 "cells": [
  {
   "cell_type": "markdown",
   "id": "4ff87b7f-178f-4ee6-86de-aa63ca6ba002",
   "metadata": {},
   "source": [
    "프로그램 만들기 1"
   ]
  },
  {
   "cell_type": "markdown",
   "id": "d11656f5-5f52-459c-a665-795739107d89",
   "metadata": {},
   "source": [
    "알고리즘"
   ]
  },
  {
   "cell_type": "code",
   "execution_count": 5,
   "id": "70c5456b-1534-4d8a-8291-dc9d68a3e76e",
   "metadata": {},
   "outputs": [
    {
     "data": {
      "text/plain": [
       "(700, 1000)"
      ]
     },
     "execution_count": 5,
     "metadata": {},
     "output_type": "execute_result"
    }
   ],
   "source": [
    "# level 1\n",
    "def 직육면체(a, b, c) :\n",
    "    x = (a * b * 2) + (a * c * 2) + (b * c * 2)\n",
    "    y = a * b * c\n",
    "    return x, y\n",
    "\n",
    "직육면체(10, 20, 5)"
   ]
  },
  {
   "cell_type": "code",
   "execution_count": 6,
   "id": "81a96d51-c095-4c16-ad0a-6dda4797f796",
   "metadata": {},
   "outputs": [
    {
     "name": "stdout",
     "output_type": "stream",
     "text": [
      "17.5\n",
      "0.0\n",
      "-22.0\n"
     ]
    }
   ],
   "source": [
    "# level 2\n",
    "def median(a, b) :\n",
    "    return (a + b) / 2\n",
    "\n",
    "print(median(15, 20))\n",
    "print(median(-15, 15))\n",
    "print(median(-23, -21))"
   ]
  },
  {
   "cell_type": "code",
   "execution_count": 9,
   "id": "ef408d6d-2fe3-477e-992d-9a42264f5c88",
   "metadata": {},
   "outputs": [
    {
     "data": {
      "text/plain": [
       "('왼쪽', 116250)"
      ]
     },
     "execution_count": 9,
     "metadata": {},
     "output_type": "execute_result"
    }
   ],
   "source": [
    "# level 3\n",
    "def big_number(a, b) :\n",
    "    if a > b :\n",
    "        return \"왼쪽\", a\n",
    "    elif a < b :\n",
    "        return \"오른쪽\", b\n",
    "    elif a == b :\n",
    "        return \"같다\"\n",
    "\n",
    "big_number(125*930, 114703)"
   ]
  },
  {
   "cell_type": "code",
   "execution_count": 1,
   "id": "e290a7b7-7869-4e93-afae-d3c5fc4e8822",
   "metadata": {},
   "outputs": [
    {
     "name": "stdout",
     "output_type": "stream",
     "text": [
      "2 * 1 = 2\n",
      "2 * 2 = 4\n",
      "2 * 3 = 6\n",
      "2 * 4 = 8\n",
      "2 * 5 = 10\n",
      "2 * 6 = 12\n",
      "2 * 7 = 14\n",
      "2 * 8 = 16\n",
      "2 * 9 = 18\n",
      "3 * 1 = 3\n",
      "3 * 2 = 6\n",
      "3 * 3 = 9\n",
      "3 * 4 = 12\n",
      "3 * 5 = 15\n",
      "3 * 6 = 18\n",
      "3 * 7 = 21\n",
      "3 * 8 = 24\n",
      "3 * 9 = 27\n",
      "4 * 1 = 4\n",
      "4 * 2 = 8\n",
      "4 * 3 = 12\n",
      "4 * 4 = 16\n",
      "4 * 5 = 20\n",
      "4 * 6 = 24\n",
      "4 * 7 = 28\n",
      "4 * 8 = 32\n",
      "4 * 9 = 36\n",
      "5 * 1 = 5\n",
      "5 * 2 = 10\n",
      "5 * 3 = 15\n",
      "5 * 4 = 20\n",
      "5 * 5 = 25\n",
      "5 * 6 = 30\n",
      "5 * 7 = 35\n",
      "5 * 8 = 40\n",
      "5 * 9 = 45\n",
      "6 * 1 = 6\n",
      "6 * 2 = 12\n",
      "6 * 3 = 18\n",
      "6 * 4 = 24\n",
      "6 * 5 = 30\n",
      "6 * 6 = 36\n",
      "6 * 7 = 42\n",
      "6 * 8 = 48\n",
      "6 * 9 = 54\n",
      "7 * 1 = 7\n",
      "7 * 2 = 14\n",
      "7 * 3 = 21\n",
      "7 * 4 = 28\n",
      "7 * 5 = 35\n",
      "7 * 6 = 42\n",
      "7 * 7 = 49\n",
      "7 * 8 = 56\n",
      "7 * 9 = 63\n",
      "8 * 1 = 8\n",
      "8 * 2 = 16\n",
      "8 * 3 = 24\n",
      "8 * 4 = 32\n",
      "8 * 5 = 40\n",
      "8 * 6 = 48\n",
      "8 * 7 = 56\n",
      "8 * 8 = 64\n",
      "8 * 9 = 72\n",
      "9 * 1 = 9\n",
      "9 * 2 = 18\n",
      "9 * 3 = 27\n",
      "9 * 4 = 36\n",
      "9 * 5 = 45\n",
      "9 * 6 = 54\n",
      "9 * 7 = 63\n",
      "9 * 8 = 72\n",
      "9 * 9 = 81\n"
     ]
    }
   ],
   "source": [
    "# level 4\n",
    "def gugu() :\n",
    "    a = 2\n",
    "    while a != 10 :\n",
    "        for i in range(1, 10) :\n",
    "            print(\"%d * %d = %d\" % (a, i, a*i))\n",
    "        a += 1\n",
    "gugu()"
   ]
  },
  {
   "cell_type": "code",
   "execution_count": 19,
   "id": "aeeb5a24-f9b4-4ca7-9ad1-755b3bf2201d",
   "metadata": {},
   "outputs": [
    {
     "name": "stdout",
     "output_type": "stream",
     "text": [
      "3초\n",
      "2초\n",
      "1초\n",
      "star star star\n"
     ]
    }
   ],
   "source": [
    "# level 5\n",
    "import time\n",
    "def countdown(n) :\n",
    "    while n != 0 :\n",
    "        print(\"%d초\" % n)\n",
    "        time.sleep(1)\n",
    "        n -= 1\n",
    "    print(\"star star star\")\n",
    "\n",
    "countdown(3)"
   ]
  },
  {
   "cell_type": "code",
   "execution_count": 20,
   "id": "dd8835ac-45b9-42b5-a76c-99c9cf465365",
   "metadata": {},
   "outputs": [
    {
     "name": "stdin",
     "output_type": "stream",
     "text": [
      "토끼가 이동할 거리를 입력 :  10\n"
     ]
    },
    {
     "name": "stdout",
     "output_type": "stream",
     "text": [
      "남은 거리 : 10\n",
      "남은 거리 : 9\n",
      "남은 거리 : 6\n",
      "남은 거리 : 5\n",
      "남은 거리 : 2\n",
      "도착했습니다!\n",
      "점프횟수 : 5\n"
     ]
    }
   ],
   "source": [
    "# level 6\n",
    "import random\n",
    "s = int(input(\"토끼가 이동할 거리를 입력 : \"))\n",
    "count = 0\n",
    "while s > 0 :\n",
    "    print(\"남은 거리 :\", s)\n",
    "    s -= random.randint(1,3)\n",
    "    count += 1\n",
    "print(\"도착했습니다!\\n점프횟수 :\", count)"
   ]
  },
  {
   "cell_type": "code",
   "execution_count": 21,
   "id": "f4fd97b5-6f87-4bf6-ada2-797517e915d3",
   "metadata": {},
   "outputs": [
    {
     "name": "stdout",
     "output_type": "stream",
     "text": [
      "1\n",
      "1\n",
      "2\n",
      "3\n",
      "5\n",
      "8\n",
      "13\n",
      "21\n"
     ]
    }
   ],
   "source": [
    "# level 7\n",
    "def 파보나치(n) :\n",
    "    a = 0\n",
    "    b = 1\n",
    "    for i in range(n) :\n",
    "        c = a + b\n",
    "        print(a + b)\n",
    "        b = a\n",
    "        a = c\n",
    "\n",
    "파보나치(8)"
   ]
  },
  {
   "cell_type": "code",
   "execution_count": 29,
   "id": "6dde198d-1d08-44d0-a41e-92ff4ecfa0d1",
   "metadata": {},
   "outputs": [
    {
     "name": "stdin",
     "output_type": "stream",
     "text": [
      "연도를 입력하세요 :  2020\n"
     ]
    },
    {
     "name": "stdout",
     "output_type": "stream",
     "text": [
      "2020년은 윤년입니다\n"
     ]
    }
   ],
   "source": [
    "# level 8\n",
    "def chk(year) :\n",
    "    if year % 4 == 0 :\n",
    "        if year % 400 == 0 :\n",
    "            return True\n",
    "        elif year % 100 == 0 :\n",
    "            return False\n",
    "        else :\n",
    "            return True\n",
    "    else :\n",
    "        return False\n",
    "\n",
    "year = int(input(\"연도를 입력하세요 : \"))\n",
    "if chk(year) == True :\n",
    "    print(\"%d년은 윤년입니다\" % year)\n",
    "else :\n",
    "    print(\"%d년은 윤년이 아닙니다\" % year)"
   ]
  },
  {
   "cell_type": "code",
   "execution_count": 43,
   "id": "cd8c3cd4-8bc5-458b-9d55-91cf2e478ffe",
   "metadata": {},
   "outputs": [
    {
     "name": "stdin",
     "output_type": "stream",
     "text": [
      "세 자리 숫자를 입력하시오 : 153\n"
     ]
    },
    {
     "name": "stdout",
     "output_type": "stream",
     "text": [
      "153은 암스트롱의 수 입니다\n"
     ]
    }
   ],
   "source": [
    "# level 9\n",
    "n = input(\"세 자리 숫자를 입력하시오 :\")\n",
    "count_n = len(n)\n",
    "total = 0\n",
    "for i in range(count_n) :\n",
    "    total += int(n[i]) ** 3\n",
    "n = int(n)\n",
    "if total == n :\n",
    "    print(\"%d은 암스트롱의 수 입니다\" % n)\n",
    "else :\n",
    "    print(\"%d은 암스트롱의 수가 아닙니다\" % n)"
   ]
  },
  {
   "cell_type": "code",
   "execution_count": 59,
   "id": "e23d22ac-d43a-4709-82ff-b355f8802b78",
   "metadata": {},
   "outputs": [
    {
     "name": "stdin",
     "output_type": "stream",
     "text": [
      "단어를 입력하시오 : i love you\n"
     ]
    },
    {
     "name": "stdout",
     "output_type": "stream",
     "text": [
      "i love you를 거꾸로 하면 uoy evol i\n"
     ]
    }
   ],
   "source": [
    "# level 10\n",
    "str = input(\"단어를 입력하시오 :\")\n",
    "print(\"%s를 거꾸로 하면\" % str, \"\".join(reversed(str)))"
   ]
  },
  {
   "cell_type": "markdown",
   "id": "d3b21985-46d6-4243-9d11-95246297ab02",
   "metadata": {},
   "source": [
    "디버깅"
   ]
  },
  {
   "cell_type": "code",
   "execution_count": 62,
   "id": "2294eee8-dfef-4f48-a656-9b42cfc4ddd2",
   "metadata": {},
   "outputs": [
    {
     "name": "stdout",
     "output_type": "stream",
     "text": [
      "합 : 8.0\n",
      "나누기 : 1.0\n"
     ]
    }
   ],
   "source": [
    "# level 1\n",
    "a = 5\n",
    "b = 3.0\n",
    "print(\"합 :\", a + b)\n",
    "\n",
    "a = 2 * 3\n",
    "b = a\n",
    "\n",
    "print(\"나누기 :\", a/b)"
   ]
  },
  {
   "cell_type": "code",
   "execution_count": 102,
   "id": "e09d3456-5b76-489a-9030-fb9c16a0230b",
   "metadata": {},
   "outputs": [
    {
     "name": "stdout",
     "output_type": "stream",
     "text": [
      "7\n",
      "[1, 2, 3, 4, 5, 6]\n",
      "ABCabc\n"
     ]
    }
   ],
   "source": [
    "# level 2\n",
    "a = [1, 2, 3]\n",
    "b = [4, 5, 6]\n",
    "c = [7, 8, 9]\n",
    "d = {1:\"abc\", \"A\" : \"ABC\"}\n",
    "\n",
    "print(a[1] +  b[1])\n",
    "print(a + b)\n",
    "c[2] = 0\n",
    "print(d[\"A\"] + d[1])"
   ]
  },
  {
   "cell_type": "code",
   "execution_count": 105,
   "id": "676a1618-bee9-4cef-a412-52d425b48b4e",
   "metadata": {},
   "outputs": [
    {
     "name": "stdin",
     "output_type": "stream",
     "text": [
      " 9\n"
     ]
    },
    {
     "name": "stdout",
     "output_type": "stream",
     "text": [
      "81\n"
     ]
    }
   ],
   "source": [
    "# level 3\n",
    "def sqrt(a) :\n",
    "    a *= a\n",
    "    return a\n",
    "a = int(input())\n",
    "print(sqrt(a))"
   ]
  },
  {
   "cell_type": "code",
   "execution_count": 107,
   "id": "255416a0-4e71-41a9-bbd2-0fc1c48032de",
   "metadata": {},
   "outputs": [
    {
     "name": "stdin",
     "output_type": "stream",
     "text": [
      "숫자를 입력 :  1\n",
      "숫자를 입력 :  10\n"
     ]
    },
    {
     "name": "stdout",
     "output_type": "stream",
     "text": [
      "11\n"
     ]
    }
   ],
   "source": [
    "# level 4\n",
    "def sum(a, b) :\n",
    "    return a+b\n",
    "a = int(input(\"숫자를 입력 : \"))\n",
    "b = int(input(\"숫자를 입력 : \"))\n",
    "\n",
    "print(sum(a,b))"
   ]
  },
  {
   "cell_type": "code",
   "execution_count": 110,
   "id": "90a5a987-1bcc-49cb-9e68-a4d49fe694e9",
   "metadata": {},
   "outputs": [
    {
     "name": "stdin",
     "output_type": "stream",
     "text": [
      "a :  9\n",
      "b :  4\n"
     ]
    },
    {
     "name": "stdout",
     "output_type": "stream",
     "text": [
      "(2, 1)\n"
     ]
    }
   ],
   "source": [
    "# level 5\n",
    "def divide(a, b) :\n",
    "    return a//b, a%b\n",
    "\n",
    "a = int(input(\"a : \"))\n",
    "b = int(input(\"b : \"))\n",
    "print(divide(a,b))"
   ]
  },
  {
   "cell_type": "code",
   "execution_count": 5,
   "id": "cd29df4b-b481-4eb2-96f0-88d30c290792",
   "metadata": {},
   "outputs": [
    {
     "name": "stdout",
     "output_type": "stream",
     "text": [
      "a to string : 123\n",
      "<class 'str'>\n"
     ]
    }
   ],
   "source": [
    "# level 6\n",
    "def my_str(number) :\n",
    "    result = str(number)\n",
    "    return result\n",
    "\n",
    "a = 123\n",
    "print(\"a to string :\", my_str(a))\n",
    "print(type(my_str(a)))"
   ]
  },
  {
   "cell_type": "code",
   "execution_count": 32,
   "id": "6188b9c5-0580-41dc-ab40-c2a37ef8f5b5",
   "metadata": {},
   "outputs": [
    {
     "name": "stdin",
     "output_type": "stream",
     "text": [
      "엔터를 누르고 20초를 셉니다 \n",
      "20초 후에 다시 엔터를 누릅니다 \n"
     ]
    },
    {
     "name": "stdout",
     "output_type": "stream",
     "text": [
      "19.429786\n"
     ]
    }
   ],
   "source": [
    "# level 7\n",
    "import time\n",
    "import datetime as dt\n",
    "first_time = input(\"엔터를 누르고 20초를 셉니다\")\n",
    "x = dt.datetime.now()\n",
    "second_time = input(\"20초 후에 다시 엔터를 누릅니다\")\n",
    "y = dt.datetime.now()\n",
    "x_time = str(x.second) + \".\" + str(x.microsecond)\n",
    "y_time = str(y.second) + \".\" + str(y.microsecond)\n",
    "print(float(y_time) - float(x_time))"
   ]
  },
  {
   "cell_type": "code",
   "execution_count": 40,
   "id": "f4c3051e-5b18-4bef-8831-e1fe5dd7c26c",
   "metadata": {},
   "outputs": [
    {
     "name": "stdin",
     "output_type": "stream",
     "text": [
      "엔터를 누르고 20초를 셉니다 \n",
      "20초 후 다시 엔터를 누릅니다 \n"
     ]
    },
    {
     "name": "stdout",
     "output_type": "stream",
     "text": [
      "실제 시간 : 0.40227699279785156초\n"
     ]
    }
   ],
   "source": [
    "# level 7\n",
    "import time\n",
    "input(\"엔터를 누르고 20초를 셉니다\")\n",
    "start = time.time()\n",
    "\n",
    "input(\"20초 후 다시 엔터를 누릅니다\")\n",
    "end = time.time()\n",
    "\n",
    "print(\"실제 시간 : {}초\".format(end-start))\n"
   ]
  },
  {
   "cell_type": "code",
   "execution_count": 41,
   "id": "119d10da-5e54-4b79-9235-d386dcbef2cc",
   "metadata": {},
   "outputs": [
    {
     "name": "stdin",
     "output_type": "stream",
     "text": [
      "맞춰보세요 : 3\n"
     ]
    },
    {
     "name": "stdout",
     "output_type": "stream",
     "text": [
      "너무 작아요\n"
     ]
    },
    {
     "name": "stdin",
     "output_type": "stream",
     "text": [
      "맞춰보세요 : 10\n"
     ]
    },
    {
     "name": "stdout",
     "output_type": "stream",
     "text": [
      "너무 커요\n"
     ]
    },
    {
     "name": "stdin",
     "output_type": "stream",
     "text": [
      "맞춰보세요 : 8\n"
     ]
    },
    {
     "name": "stdout",
     "output_type": "stream",
     "text": [
      "너무 커요\n"
     ]
    },
    {
     "name": "stdin",
     "output_type": "stream",
     "text": [
      "맞춰보세요 : 7\n"
     ]
    },
    {
     "name": "stdout",
     "output_type": "stream",
     "text": [
      "너무 커요\n"
     ]
    },
    {
     "name": "stdin",
     "output_type": "stream",
     "text": [
      "맞춰보세요 : 6\n"
     ]
    },
    {
     "name": "stdout",
     "output_type": "stream",
     "text": [
      "너무 커요\n"
     ]
    },
    {
     "name": "stdin",
     "output_type": "stream",
     "text": [
      "맞춰보세요 : 5\n"
     ]
    },
    {
     "name": "stdout",
     "output_type": "stream",
     "text": [
      "너무 커요\n"
     ]
    },
    {
     "name": "stdin",
     "output_type": "stream",
     "text": [
      "맞춰보세요 : 4\n"
     ]
    },
    {
     "name": "stdout",
     "output_type": "stream",
     "text": [
      "정답\n"
     ]
    }
   ],
   "source": [
    "# level 8\n",
    "import random\n",
    "num = random.randint(1, 30)\n",
    "while True :\n",
    "    guess = int(input(\"맞춰보세요 :\"))\n",
    "    if guess > num :\n",
    "        print(\"너무 커요\")\n",
    "    elif guess < num :\n",
    "        print(\"너무 작아요\")\n",
    "    else :\n",
    "        print(\"정답\")\n",
    "        break\n",
    "\n",
    "    "
   ]
  },
  {
   "cell_type": "code",
   "execution_count": 75,
   "id": "ee6a2885-551a-4aa7-b796-d08e7e908735",
   "metadata": {},
   "outputs": [
    {
     "name": "stdout",
     "output_type": "stream",
     "text": [
      "13-19\n"
     ]
    },
    {
     "name": "stdin",
     "output_type": "stream",
     "text": [
      "= -6\n"
     ]
    },
    {
     "name": "stdout",
     "output_type": "stream",
     "text": [
      "정답!\n",
      "8+7\n"
     ]
    },
    {
     "name": "stdin",
     "output_type": "stream",
     "text": [
      "= 15\n"
     ]
    },
    {
     "name": "stdout",
     "output_type": "stream",
     "text": [
      "정답!\n",
      "32*11\n"
     ]
    },
    {
     "name": "stdin",
     "output_type": "stream",
     "text": [
      "= 3\n"
     ]
    },
    {
     "name": "stdout",
     "output_type": "stream",
     "text": [
      "352 3\n",
      "오답!\n",
      "13*10\n"
     ]
    },
    {
     "name": "stdin",
     "output_type": "stream",
     "text": [
      "= 130\n"
     ]
    },
    {
     "name": "stdout",
     "output_type": "stream",
     "text": [
      "정답!\n",
      "32-4\n"
     ]
    },
    {
     "name": "stdin",
     "output_type": "stream",
     "text": [
      "= 28\n"
     ]
    },
    {
     "name": "stdout",
     "output_type": "stream",
     "text": [
      "정답!\n",
      "정답 : 4 오답 : 1\n"
     ]
    }
   ],
   "source": [
    "# level 9\n",
    "import random\n",
    "def make_question() :\n",
    "    a = random.randint(1, 40)\n",
    "    b = random.randint(1, 20)\n",
    "    op = random.randint(1, 3)\n",
    "    q = str(a)\n",
    "\n",
    "    if op == 1 :\n",
    "        q = q + \"+\"\n",
    "    if op == 2 :\n",
    "        q = q + \"-\"\n",
    "    if op == 3 :\n",
    "        q = q + \"*\"\n",
    "    q = q +str(b)\n",
    "    return q\n",
    "\n",
    "def eval(q) :\n",
    "    if \"*\" in q :\n",
    "        q = q.split(\"*\")\n",
    "        return int(q[0]) * int(q[1])\n",
    "    if \"-\" in q :\n",
    "        q = q.split(\"-\")\n",
    "        return int(q[0]) - int(q[1])\n",
    "    if \"+\" in q :\n",
    "        q = q.split(\"+\")\n",
    "        return int(q[0]) + int(q[1])\n",
    "    \n",
    "\n",
    "sc1 = 0\n",
    "sc2 = 0\n",
    "\n",
    "for i in range(5) :\n",
    "    q = make_question()\n",
    "    print(q)\n",
    "    ans = int(input(\"=\"))\n",
    "\n",
    "    if eval(q) == ans :\n",
    "        print(\"정답!\")\n",
    "        sc1 += 1\n",
    "    else :\n",
    "        print(eval(q), ans)\n",
    "        print(\"오답!\")\n",
    "        sc2 += 1\n",
    "\n",
    "print(\"정답 :\", sc1, \"오답 :\", sc2)\n",
    "    "
   ]
  },
  {
   "cell_type": "code",
   "execution_count": 2,
   "id": "e9cfe0e6-9962-459b-8c20-f2b05786a9f0",
   "metadata": {},
   "outputs": [
    {
     "name": "stdout",
     "output_type": "stream",
     "text": [
      "[타자 게임] 준비되면 엔터!\n"
     ]
    },
    {
     "name": "stdin",
     "output_type": "stream",
     "text": [
      " \n"
     ]
    },
    {
     "name": "stdout",
     "output_type": "stream",
     "text": [
      "문제 1\n",
      "cat\n"
     ]
    },
    {
     "name": "stdin",
     "output_type": "stream",
     "text": [
      " cat\n"
     ]
    },
    {
     "name": "stdout",
     "output_type": "stream",
     "text": [
      "통과!\n",
      "문제 2\n",
      "frog\n"
     ]
    },
    {
     "name": "stdin",
     "output_type": "stream",
     "text": [
      " frog\n"
     ]
    },
    {
     "name": "stdout",
     "output_type": "stream",
     "text": [
      "통과!\n",
      "문제 3\n",
      "monkey\n"
     ]
    },
    {
     "name": "stdin",
     "output_type": "stream",
     "text": [
      " monkey\n"
     ]
    },
    {
     "name": "stdout",
     "output_type": "stream",
     "text": [
      "통과!\n",
      "문제 4\n",
      "monkey\n"
     ]
    },
    {
     "name": "stdin",
     "output_type": "stream",
     "text": [
      " monkey\n"
     ]
    },
    {
     "name": "stdout",
     "output_type": "stream",
     "text": [
      "통과!\n",
      "문제 5\n",
      "fox\n"
     ]
    },
    {
     "name": "stdin",
     "output_type": "stream",
     "text": [
      " fox\n"
     ]
    },
    {
     "name": "stdout",
     "output_type": "stream",
     "text": [
      "통과!\n",
      "타자시간 : 6.09 초\n"
     ]
    }
   ],
   "source": [
    "# level 10\n",
    "import random\n",
    "import time\n",
    "\n",
    "w = [\"cat\", \"dog\", \"fox\", \"monkey\", \"mouse\", \"panda\", \"frog\", \"snake\", \"wolf\"]\n",
    "n = 1\n",
    "print(\"[타자 게임] 준비되면 엔터!\")\n",
    "input()\n",
    "start = time.time()\n",
    "\n",
    "while n <= 5 :\n",
    "    q = random.choice(w)\n",
    "    print(\"문제\", n)\n",
    "    print(q)\n",
    "    x = input()\n",
    "    if q == x :\n",
    "        print(\"통과!\")\n",
    "        n += 1\n",
    "    else :\n",
    "        print(\"오타! 다시 도전!\")\n",
    "end = time.time()\n",
    "\n",
    "et = end - start\n",
    "et = format(et, \".2f\")\n",
    "print(\"타자시간 :\", et, \"초\")"
   ]
  },
  {
   "cell_type": "code",
   "execution_count": 11,
   "id": "127f1bf8-246b-4760-92ad-c963710432b2",
   "metadata": {},
   "outputs": [
    {
     "name": "stdin",
     "output_type": "stream",
     "text": [
      "가위, 바위, 보? : 가위\n"
     ]
    },
    {
     "name": "stdout",
     "output_type": "stream",
     "text": [
      "바위! You Lose...\n"
     ]
    },
    {
     "name": "stdin",
     "output_type": "stream",
     "text": [
      "가위, 바위, 보? : 보\n"
     ]
    },
    {
     "name": "stdout",
     "output_type": "stream",
     "text": [
      "보! Draw\n",
      "0연승 유지 중!!\n"
     ]
    },
    {
     "name": "stdin",
     "output_type": "stream",
     "text": [
      "가위, 바위, 보? : 보\n"
     ]
    },
    {
     "name": "stdout",
     "output_type": "stream",
     "text": [
      "보! Draw\n",
      "0연승 유지 중!!\n"
     ]
    },
    {
     "name": "stdin",
     "output_type": "stream",
     "text": [
      "가위, 바위, 보? : 보\n"
     ]
    },
    {
     "name": "stdout",
     "output_type": "stream",
     "text": [
      "바위! You Win!\n",
      "1연승 중!!\n"
     ]
    },
    {
     "name": "stdin",
     "output_type": "stream",
     "text": [
      "가위, 바위, 보? : 보\n"
     ]
    },
    {
     "name": "stdout",
     "output_type": "stream",
     "text": [
      "보! Draw\n",
      "1연승 유지 중!!\n"
     ]
    },
    {
     "name": "stdin",
     "output_type": "stream",
     "text": [
      "가위, 바위, 보? : 보\n"
     ]
    },
    {
     "name": "stdout",
     "output_type": "stream",
     "text": [
      "보! Draw\n",
      "1연승 유지 중!!\n"
     ]
    },
    {
     "name": "stdin",
     "output_type": "stream",
     "text": [
      "가위, 바위, 보? : 보\n"
     ]
    },
    {
     "name": "stdout",
     "output_type": "stream",
     "text": [
      "가위! You Lose...\n"
     ]
    },
    {
     "name": "stdin",
     "output_type": "stream",
     "text": [
      "가위, 바위, 보? : 보\n"
     ]
    },
    {
     "name": "stdout",
     "output_type": "stream",
     "text": [
      "가위! You Lose...\n"
     ]
    },
    {
     "name": "stdin",
     "output_type": "stream",
     "text": [
      "가위, 바위, 보? : 보\n"
     ]
    },
    {
     "name": "stdout",
     "output_type": "stream",
     "text": [
      "보! Draw\n",
      "0연승 유지 중!!\n"
     ]
    },
    {
     "name": "stdin",
     "output_type": "stream",
     "text": [
      "가위, 바위, 보? : 보\n"
     ]
    },
    {
     "name": "stdout",
     "output_type": "stream",
     "text": [
      "바위! You Win!\n",
      "1연승 중!!\n"
     ]
    },
    {
     "name": "stdin",
     "output_type": "stream",
     "text": [
      "가위, 바위, 보? : 그만\n"
     ]
    },
    {
     "name": "stdout",
     "output_type": "stream",
     "text": [
      "당신의 기록 : 1연승\n"
     ]
    }
   ],
   "source": [
    "# level final\n",
    "def my_function(묵찌빠) :\n",
    "    # 1 = 가위, 2 = 바위, 3 = 보\n",
    "    랜덤 = random.randint(1,3)\n",
    "    if (묵찌빠 == \"가위\") :\n",
    "        if (랜덤 == 1) :\n",
    "            return \"가위! Draw\"\n",
    "        if (랜덤 == 2) :\n",
    "            return \"바위! You Lose...\"\n",
    "        if (랜덤 == 3) :\n",
    "            return \"보! You Win!\"\n",
    "    if (묵찌빠 == \"바위\") :\n",
    "        if (랜덤 == 1) :\n",
    "            return \"가위! You Win!\"\n",
    "        if (랜덤 == 2) :\n",
    "            return \"바위! Draw\"\n",
    "        if (랜덤 == 3) :\n",
    "            return \"보! You Lose...\"\n",
    "    if (묵찌빠 == \"보\") :\n",
    "        if (랜덤 == 1) :\n",
    "            return \"가위! You Lose...\"\n",
    "        if (랜덤 == 2) :\n",
    "            return \"바위! You Win!\"\n",
    "        if (랜덤 == 3) :\n",
    "            return \"보! Draw\"\n",
    "    else :\n",
    "        return \"???\"\n",
    "\n",
    "count = 0\n",
    "while True :\n",
    "    가위바위보 = input(\"가위, 바위, 보? :\")\n",
    "    결과 = my_function(가위바위보)\n",
    "    if (가위바위보 == \"그만\") :\n",
    "        break\n",
    "    else :\n",
    "        if (결과[-1] == \"!\") :\n",
    "            print(결과)\n",
    "            count += 1\n",
    "            print(str(count) + \"연승 중!!\")\n",
    "        elif (결과[-1] == \".\") :\n",
    "            print(결과)\n",
    "            count = 0\n",
    "        else :\n",
    "            print(결과)\n",
    "            print(str(count) + \"연승 유지 중!!\")\n",
    "        \n",
    "print(\"당신의 기록 : \" + str(count) + \"연승\")"
   ]
  },
  {
   "cell_type": "markdown",
   "id": "b35b4c33-2ad3-4300-ad65-7040a2ded9bc",
   "metadata": {},
   "source": [
    "기출문제 풀이"
   ]
  },
  {
   "cell_type": "code",
   "execution_count": 13,
   "id": "c7f133e6-e3b1-40c3-8344-d91e76784cc8",
   "metadata": {},
   "outputs": [
    {
     "name": "stdout",
     "output_type": "stream",
     "text": [
      "10 10 20 None\n"
     ]
    }
   ],
   "source": [
    "# 변수 선언\n",
    "a = b = 10\n",
    "c, d = 20, None\n",
    "print(a, b, c, d)"
   ]
  },
  {
   "cell_type": "code",
   "execution_count": 14,
   "id": "32dc818f-91b0-4274-b2f8-0ba6b159448b",
   "metadata": {},
   "outputs": [
    {
     "name": "stdout",
     "output_type": "stream",
     "text": [
      "2000/10/27 11:43:59\n"
     ]
    }
   ],
   "source": [
    "# 날짜와 시간 출력\n",
    "year = 2000\n",
    "month = 10\n",
    "day = 27\n",
    "hour = 11\n",
    "minute = 43\n",
    "second = 59\n",
    "\n",
    "print(year, month, day, sep=\"/\", end=\" \")\n",
    "print(hour, minute, second, sep=\":\")"
   ]
  },
  {
   "cell_type": "code",
   "execution_count": 16,
   "id": "ee5995f8-c6fa-48c8-a301-175548d2c028",
   "metadata": {},
   "outputs": [
    {
     "name": "stdout",
     "output_type": "stream",
     "text": [
      "s의 길이는 13입니다\n"
     ]
    }
   ],
   "source": [
    "# 문자열 길이 출력\n",
    "s = \"Hello, Python\"\n",
    "print(\"s의 길이는 %d입니다\" % len(s))"
   ]
  },
  {
   "cell_type": "code",
   "execution_count": 17,
   "id": "a1f0043b-85bf-41f0-9296-08575dd8a4a4",
   "metadata": {},
   "outputs": [
    {
     "name": "stdout",
     "output_type": "stream",
     "text": [
      "ok\n"
     ]
    }
   ],
   "source": [
    "# 조건문 사용\n",
    "x = 5\n",
    "if x != 10 :\n",
    "    print(\"ok\")"
   ]
  },
  {
   "cell_type": "code",
   "execution_count": 23,
   "id": "38e05dc9-373f-4a90-8381-9da062722880",
   "metadata": {},
   "outputs": [
    {
     "name": "stdout",
     "output_type": "stream",
     "text": [
      "False\n"
     ]
    }
   ],
   "source": [
    "# 합격 여부 출력\n",
    "korean = 92\n",
    "english = 47\n",
    "math = 86\n",
    "science = 81\n",
    "\n",
    "if korean < 50 or english < 50 or math < 50 or science < 50 :\n",
    "    print(\"False\")"
   ]
  },
  {
   "cell_type": "code",
   "execution_count": 24,
   "id": "b733e22e-3f79-415e-a305-e97a7b02583a",
   "metadata": {},
   "outputs": [
    {
     "name": "stdout",
     "output_type": "stream",
     "text": [
      "[5, 3, 1, -1, -3, -5, -7, -9]\n"
     ]
    }
   ],
   "source": [
    "# range() 사용\n",
    "list = []\n",
    "for i in range(5, -10, -2) :\n",
    "    list.append(i)\n",
    "print(list)"
   ]
  },
  {
   "cell_type": "code",
   "execution_count": 25,
   "id": "02500ac1-892e-40b9-a8c8-195101f06975",
   "metadata": {},
   "outputs": [
    {
     "name": "stdout",
     "output_type": "stream",
     "text": [
      "불합격\n"
     ]
    }
   ],
   "source": [
    "# 합격 여부 판단\n",
    "writtenTest = 75\n",
    "toeic = 890\n",
    "\n",
    "if writtenTest >= 80 and toeic >= 850 :\n",
    "    print(\"합격\")\n",
    "else :\n",
    "    print(\"불합격\")\n",
    "    "
   ]
  },
  {
   "cell_type": "code",
   "execution_count": 26,
   "id": "f7858d0b-0974-49f3-9559-f420d87c749b",
   "metadata": {},
   "outputs": [
    {
     "name": "stdout",
     "output_type": "stream",
     "text": [
      "120\n"
     ]
    }
   ],
   "source": [
    "# 팩토리얼 구하기\n",
    "n = 5\n",
    "factorial = 1\n",
    "for i in range(1, n+1) :\n",
    "    factorial *= i\n",
    "print(factorial)"
   ]
  },
  {
   "cell_type": "code",
   "execution_count": 29,
   "id": "7e129c7a-79a5-4309-ae6c-f75d6a5fbf24",
   "metadata": {},
   "outputs": [
    {
     "name": "stdout",
     "output_type": "stream",
     "text": [
      "아무것도 해당하지 않음\n"
     ]
    }
   ],
   "source": [
    "# 조건문 모두 사용\n",
    "x = 5\n",
    "if 11 < x < 20 :\n",
    "    print(\"11~20\")\n",
    "elif 21 < x < 30 :\n",
    "    print(\"21~30\")\n",
    "else :\n",
    "    print(\"아무것도 해당하지 않음\")"
   ]
  },
  {
   "cell_type": "code",
   "execution_count": 31,
   "id": "44082020-a24f-4e9b-a52e-aed3113a9baa",
   "metadata": {},
   "outputs": [
    {
     "name": "stdout",
     "output_type": "stream",
     "text": [
      "2 5\n",
      "4 4\n",
      "8 3\n",
      "16 2\n",
      "32 1\n"
     ]
    }
   ],
   "source": [
    "# 변수 반복\n",
    "i = 2\n",
    "j = 5\n",
    "for x in range(1, 6) :\n",
    "    print(i ** x, j - (x-1))"
   ]
  },
  {
   "cell_type": "code",
   "execution_count": 33,
   "id": "21c30a49-0fd8-4110-9f55-363b6a347d34",
   "metadata": {},
   "outputs": [
    {
     "name": "stdout",
     "output_type": "stream",
     "text": [
      "3 13 23 33 43 53 63 73 "
     ]
    }
   ],
   "source": [
    "# 3으로 끝나는 숫자 출력\n",
    "i = 0\n",
    "while True :\n",
    "    if i == 74 :\n",
    "        break\n",
    "    i += 1\n",
    "    if i % 10 == 3 :\n",
    "        print(i, end=\" \")\n"
   ]
  },
  {
   "cell_type": "code",
   "execution_count": 39,
   "id": "1709dd19-bc83-4fe1-baa9-f95d75bb3f23",
   "metadata": {},
   "outputs": [
    {
     "name": "stdout",
     "output_type": "stream",
     "text": [
      "575.6\n",
      "340\n"
     ]
    }
   ],
   "source": [
    "# 데이터 저장\n",
    "camille = {\n",
    "    \"health\" : 575.6,\n",
    "    \"movement_speed\" : 340\n",
    "}\n",
    "\n",
    "print(camille[\"health\"], camille[\"movement_speed\"], sep=\"\\n\")"
   ]
  },
  {
   "cell_type": "code",
   "execution_count": 57,
   "id": "cca6c85d-23c0-4c38-ac90-4bb07c79b79e",
   "metadata": {},
   "outputs": [
    {
     "name": "stdout",
     "output_type": "stream",
     "text": [
      "*****\n",
      " ****\n",
      "  ***\n",
      "   **\n",
      "    *\n"
     ]
    }
   ],
   "source": [
    "# 별 출력\n",
    "for i in range(5) :\n",
    "    print(\" \" * i, end=\"\")\n",
    "    print(\"*\" * (5-i))"
   ]
  },
  {
   "cell_type": "code",
   "execution_count": 58,
   "id": "7c32cea6-6019-4ee8-8b1a-a63038f31f84",
   "metadata": {},
   "outputs": [
    {
     "name": "stdout",
     "output_type": "stream",
     "text": [
      "490 -170 250 1020 80 620 210 "
     ]
    }
   ],
   "source": [
    "# 값 출력\n",
    "x = [49, -17, 25, 102, 8, 62, 21]\n",
    "for i in x :\n",
    "    print(i * 10, end=\" \")"
   ]
  },
  {
   "cell_type": "code",
   "execution_count": 62,
   "id": "55de84cc-0392-448e-917c-a6df00cb2a18",
   "metadata": {},
   "outputs": [
    {
     "name": "stdout",
     "output_type": "stream",
     "text": [
      "['charlie', 'delta', 'echo']\n",
      "[100, 200, 300, 400]\n"
     ]
    }
   ],
   "source": [
    "# 요소 추출\n",
    "a = [\"alpha\", \"bravo\", \"charlie\", \"delta\", \"echo\"]\n",
    "b = [100, 200, 300, 400, 500, 600]\n",
    "\n",
    "print(a[2:])\n",
    "print(b[0:4])"
   ]
  },
  {
   "cell_type": "code",
   "execution_count": 63,
   "id": "b6e27ee9-5178-4898-8759-90b8d6a6bdb0",
   "metadata": {},
   "outputs": [
    {
     "name": "stdout",
     "output_type": "stream",
     "text": [
      "1\n",
      "Fizz\n",
      "3\n",
      "Fizz\n",
      "5\n",
      "Fizz\n",
      "7\n",
      "Fizz\n",
      "9\n",
      "Fizz\n",
      "Buzz\n",
      "Fizz\n",
      "13\n",
      "Fizz\n",
      "15\n",
      "Fizz\n",
      "17\n",
      "Fizz\n",
      "19\n",
      "Fizz\n",
      "21\n",
      "FizzBuzz\n",
      "23\n",
      "Fizz\n",
      "25\n",
      "Fizz\n",
      "27\n",
      "Fizz\n",
      "29\n",
      "Fizz\n",
      "31\n",
      "Fizz\n",
      "Buzz\n",
      "Fizz\n",
      "35\n",
      "Fizz\n",
      "37\n",
      "Fizz\n",
      "39\n",
      "Fizz\n",
      "41\n",
      "Fizz\n",
      "43\n",
      "FizzBuzz\n",
      "45\n",
      "Fizz\n",
      "47\n",
      "Fizz\n",
      "49\n",
      "Fizz\n",
      "51\n",
      "Fizz\n",
      "53\n",
      "Fizz\n",
      "Buzz\n",
      "Fizz\n",
      "57\n",
      "Fizz\n",
      "59\n",
      "Fizz\n",
      "61\n",
      "Fizz\n",
      "63\n",
      "Fizz\n",
      "65\n",
      "FizzBuzz\n",
      "67\n",
      "Fizz\n",
      "69\n",
      "Fizz\n",
      "71\n",
      "Fizz\n",
      "73\n",
      "Fizz\n",
      "75\n",
      "Fizz\n",
      "Buzz\n",
      "Fizz\n",
      "79\n",
      "Fizz\n",
      "81\n",
      "Fizz\n",
      "83\n",
      "Fizz\n",
      "85\n",
      "Fizz\n",
      "87\n",
      "FizzBuzz\n",
      "89\n",
      "Fizz\n",
      "91\n",
      "Fizz\n",
      "93\n",
      "Fizz\n",
      "95\n",
      "Fizz\n",
      "97\n",
      "Fizz\n",
      "Buzz\n",
      "Fizz\n"
     ]
    }
   ],
   "source": [
    "# 2와 11의 배수, 공배수 처리\n",
    "for i in range(1, 101) :\n",
    "    if i % 2 == 0 and i % 11 == 0 :\n",
    "        print(\"FizzBuzz\")\n",
    "    elif i % 2 == 0 :\n",
    "        print(\"Fizz\")\n",
    "    elif i % 11 == 0 :\n",
    "        print(\"Buzz\")\n",
    "    else :\n",
    "        print(i)"
   ]
  },
  {
   "cell_type": "code",
   "execution_count": 73,
   "id": "955066ed-2b56-4867-8f12-f85acdfb605a",
   "metadata": {},
   "outputs": [
    {
     "name": "stdout",
     "output_type": "stream",
     "text": [
      "[75, -10, 32, -15, 76, 2]\n"
     ]
    }
   ],
   "source": [
    "# 요소 추출\n",
    "n = [-32, 75, 97, -10, 9, 32, 4, -15, 0, 76, 14, 2]\n",
    "odd_n = []\n",
    "for i in range(1, len(n)+1, 2) :\n",
    "    odd_n.append(n[i])\n",
    "print(odd_n)"
   ]
  },
  {
   "cell_type": "code",
   "execution_count": 74,
   "id": "968afc20-c4c3-4b4e-968b-e259252727e5",
   "metadata": {},
   "outputs": [
    {
     "data": {
      "text/plain": [
       "{'a', 'e', 'l', 'p'}"
      ]
     },
     "execution_count": 74,
     "metadata": {},
     "output_type": "execute_result"
    }
   ],
   "source": [
    "# 세트 표현식\n",
    "a = {i for i in \"apple\"}\n",
    "a"
   ]
  },
  {
   "cell_type": "code",
   "execution_count": 77,
   "id": "088f19ac-0c9c-457c-9175-cfe21b9775c1",
   "metadata": {},
   "outputs": [
    {
     "name": "stdout",
     "output_type": "stream",
     "text": [
      "['alpha', 'bravo', 'delta', 'hotel', 'india']\n"
     ]
    }
   ],
   "source": [
    "# 특정 요소 추출\n",
    "a = [\"alpha\", \"bravo\", \"charlie\", \"delta\", \"echo\", \"foxtrot\", \"golf\", \"hotel\", \"india\"]\n",
    "b = []\n",
    "for i in a :\n",
    "    if len(i) == 5 :\n",
    "        b.append(i)\n",
    "print(b)\n",
    "\n",
    "\n"
   ]
  },
  {
   "cell_type": "code",
   "execution_count": 81,
   "id": "52e79541-eb6e-4400-90d5-c50f3bf1cfbf",
   "metadata": {},
   "outputs": [
    {
     "name": "stdout",
     "output_type": "stream",
     "text": [
      "{75, 45, 15, 90, 60, 30}\n"
     ]
    }
   ],
   "source": [
    "# 공배수 구하기\n",
    "a = {i for i in range(3, 101, 3)}\n",
    "b = {i for i in range(5, 101, 5)}\n",
    "print(a & b)"
   ]
  },
  {
   "cell_type": "code",
   "execution_count": 84,
   "id": "01d194ee-a4e8-4fd0-b1fe-0453a20d56de",
   "metadata": {},
   "outputs": [
    {
     "name": "stdout",
     "output_type": "stream",
     "text": [
      "[[[2, 4, 3], [0, 0, 0], [0, 0, 0]], [[2, 4, 3], [0, 0, 0], [0, 0, 0]]]\n"
     ]
    }
   ],
   "source": [
    "# 3차원 리스트\n",
    "# 뭘 하라는건지 모르겠넵...\n",
    "a = [[[2, 4, 3], [0, 0, 0], [0, 0, 0]], [[2, 4, 3], [0, 0, 0], [0, 0, 0]]]\n",
    "print(a)"
   ]
  }
 ],
 "metadata": {
  "kernelspec": {
   "display_name": "Python 3 (ipykernel)",
   "language": "python",
   "name": "python3"
  },
  "language_info": {
   "codemirror_mode": {
    "name": "ipython",
    "version": 3
   },
   "file_extension": ".py",
   "mimetype": "text/x-python",
   "name": "python",
   "nbconvert_exporter": "python",
   "pygments_lexer": "ipython3",
   "version": "3.11.7"
  }
 },
 "nbformat": 4,
 "nbformat_minor": 5
}
