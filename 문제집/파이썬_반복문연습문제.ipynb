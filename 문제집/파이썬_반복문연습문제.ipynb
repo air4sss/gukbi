{
 "cells": [
  {
   "cell_type": "markdown",
   "id": "74dddf89",
   "metadata": {},
   "source": [
    "예측하라 문제는 스킵\n",
    "출력을 원하는 문제만 작성"
   ]
  },
  {
   "cell_type": "code",
   "execution_count": 3,
   "id": "28f37253",
   "metadata": {},
   "outputs": [
    {
     "name": "stdout",
     "output_type": "stream",
     "text": [
      "오늘의 메뉴 : 김밥\n",
      "오늘의 메뉴 : 라면\n",
      "오늘의 메뉴 : 튀김\n"
     ]
    }
   ],
   "source": [
    "# menu 리스트에는 판매중인 메뉴가 저장돼 있다. 아래와 같이 화면에 출력하라\n",
    "menu = [\"김밥\", \"라면\", \"튀김\"]\n",
    "\n",
    "for m in menu :\n",
    "    print(\"오늘의 메뉴 :\", m)"
   ]
  },
  {
   "cell_type": "code",
   "execution_count": 5,
   "id": "026fee04",
   "metadata": {},
   "outputs": [
    {
     "name": "stdout",
     "output_type": "stream",
     "text": [
      "110\n",
      "210\n",
      "310\n"
     ]
    }
   ],
   "source": [
    "# 다음과 같이 판매가가 저장된 리스트가 있을 때 부가세가 포함된 가격을 화면에 출력하라. 단 부가세는 10원으로 가정한다\n",
    "prices = [100, 200, 300]\n",
    "\n",
    "for i in prices :\n",
    "    print(i + 10)"
   ]
  },
  {
   "cell_type": "code",
   "execution_count": 7,
   "id": "f963397d",
   "metadata": {},
   "outputs": [
    {
     "name": "stdout",
     "output_type": "stream",
     "text": [
      "dog 3\n",
      "cat 3\n",
      "parrot 6\n",
      "squirrel 8\n",
      "goldfish 8\n"
     ]
    }
   ],
   "source": [
    "# 다음과 같이 반려 동물 리스트가 있을 때 반려 동물의 이름과 반려 동물의 글자수를 출력하라\n",
    "pets = [\"dog\", \"cat\", \"parrot\", \"squirrel\", \"goldfish\"]\n",
    "for i in pets :\n",
    "    print(i, len(i))"
   ]
  },
  {
   "cell_type": "code",
   "execution_count": 8,
   "id": "a2f77bbd",
   "metadata": {},
   "outputs": [
    {
     "name": "stdout",
     "output_type": "stream",
     "text": [
      "면라\n",
      "밥김\n",
      "김튀\n",
      "이떡볶\n"
     ]
    }
   ],
   "source": [
    "# menu 리스트에는 음식 이름이 뒤집혀 저장돼 있다. 이를 읽기 좋게 뒤집어서 아래와 같이 출력하라\n",
    "menu = [\"면라\", \"밥김\",\"김튀\",\"이볶떡\"]\n",
    "for m in menu :\n",
    "    i = len(m)\n",
    "    for n in range(i) :\n",
    "        print(m[1-n-1], end=\"\")\n",
    "    print(\"\")"
   ]
  },
  {
   "cell_type": "code",
   "execution_count": 10,
   "id": "75451567",
   "metadata": {},
   "outputs": [
    {
     "name": "stdout",
     "output_type": "stream",
     "text": [
      "나\n",
      "다\n",
      "라\n"
     ]
    }
   ],
   "source": [
    "# my_list에는 4개의 데이터가 저장되어 있다. 첫 번째 데이터를 제외하고 나머지 데이터를 한 라인에 하나씩 출력하라\n",
    "my_list = [\"가\", \"나\", \"다\", \"라\"]\n",
    "for i in range(1, len(my_list)) :\n",
    "    print(my_list[i])"
   ]
  },
  {
   "cell_type": "code",
   "execution_count": 11,
   "id": "8bad6688",
   "metadata": {},
   "outputs": [
    {
     "name": "stdout",
     "output_type": "stream",
     "text": [
      "2\n",
      "4\n",
      "6\n"
     ]
    }
   ],
   "source": [
    "# my_list의 데이터 중에서 홀수 번째 위치의 값을 화면에 출력하라\n",
    "my_list = [1, 2, 3, 4, 5, 6]\n",
    "for i in my_list :\n",
    "    if i % 2 == 0 :\n",
    "        print(i)"
   ]
  },
  {
   "cell_type": "code",
   "execution_count": 22,
   "id": "63dbeb52",
   "metadata": {},
   "outputs": [
    {
     "name": "stdout",
     "output_type": "stream",
     "text": [
      "라\n",
      "다\n",
      "나\n",
      "가\n"
     ]
    }
   ],
   "source": [
    "# my_list의 데이터를 아래와 같이 역방향으로 출력하라\n",
    "my_list = [\"가\", \"나\", \"다\", \"라\"]\n",
    "for i in range(len(my_list)-1, -1, -1) :\n",
    "    print(my_list[i])\n"
   ]
  },
  {
   "cell_type": "code",
   "execution_count": 24,
   "id": "b26d0e4a",
   "metadata": {},
   "outputs": [
    {
     "name": "stdout",
     "output_type": "stream",
     "text": [
      "-20\n",
      "-3\n"
     ]
    }
   ],
   "source": [
    "# my_list에서 음수를 출력하라\n",
    "my_list = [3, -20, -3, 44]\n",
    "for i in my_list :\n",
    "    if i < 0 :\n",
    "        print(i)"
   ]
  },
  {
   "cell_type": "code",
   "execution_count": 25,
   "id": "638d7106",
   "metadata": {},
   "outputs": [
    {
     "name": "stdout",
     "output_type": "stream",
     "text": [
      "3\n"
     ]
    }
   ],
   "source": [
    "# my_list에서 3의 배수를 출력하라\n",
    "my_list = [3, 100, 23, 44]\n",
    "for i in my_list :\n",
    "    if i % 3 == 0 :\n",
    "        print(i)"
   ]
  },
  {
   "cell_type": "code",
   "execution_count": 26,
   "id": "5c85aec3",
   "metadata": {},
   "outputs": [
    {
     "name": "stdout",
     "output_type": "stream",
     "text": [
      "study\n",
      "python\n",
      "language\n"
     ]
    }
   ],
   "source": [
    "# my_list에서 세 글자 이상의 문자를 화면에 출력하라\n",
    "my_list = [\"I\", \"study\", \"python\", \"language\", \"!\"]\n",
    "for i in my_list :\n",
    "    if len(i) >= 3 :\n",
    "        print(i)"
   ]
  },
  {
   "cell_type": "code",
   "execution_count": 29,
   "id": "4215c380",
   "metadata": {},
   "outputs": [
    {
     "name": "stdout",
     "output_type": "stream",
     "text": [
      "3\n",
      "12\n",
      "16\n"
     ]
    }
   ],
   "source": [
    "# my_list에서 3의 배수이거나 4의 배수를 화면에 출력하라\n",
    "my_list = [3, 1, 7, 12, 5, 16]\n",
    "for i in my_list :\n",
    "    if i % 3 == 0 or i % 4 == 0 :\n",
    "        print(i)"
   ]
  },
  {
   "cell_type": "code",
   "execution_count": 30,
   "id": "1bac12c7",
   "metadata": {},
   "outputs": [
    {
     "name": "stdout",
     "output_type": "stream",
     "text": [
      "12\n",
      "18\n"
     ]
    }
   ],
   "source": [
    "# my_list에서 10보다 크고 20보다 작으면서 3의 배수일 경우 화면에 출력하라\n",
    "my_list = [13, 21, 12, 14, 30, 18]\n",
    "for i in my_list :\n",
    "    if i > 10 and i < 20 and i % 3 == 0 :\n",
    "        print(i)"
   ]
  },
  {
   "cell_type": "code",
   "execution_count": 31,
   "id": "92d8d3eb",
   "metadata": {},
   "outputs": [
    {
     "name": "stdout",
     "output_type": "stream",
     "text": [
      "7\n",
      "6\n"
     ]
    }
   ],
   "source": [
    "# my_list에서 5보다 크고 10보다 작은 수를 화면에 출력하라\n",
    "my_list = [3, 1, 7, 10, 5, 6]\n",
    "for i in my_list :\n",
    "    if i > 5 and i < 10 :\n",
    "        print(i)"
   ]
  },
  {
   "cell_type": "code",
   "execution_count": 32,
   "id": "9d2c40c4",
   "metadata": {},
   "outputs": [
    {
     "name": "stdout",
     "output_type": "stream",
     "text": [
      "3\n",
      "12\n",
      "16\n"
     ]
    }
   ],
   "source": [
    "# my_list에서 3의 배수이거나 4의 배수를 화면에 출력하라\n",
    "my_list = [3, 1, 7, 12, 5, 16]\n",
    "for i in my_list :\n",
    "    if i % 3 == 0 or i % 4 == 0 :\n",
    "        print(i)"
   ]
  },
  {
   "cell_type": "code",
   "execution_count": 34,
   "id": "46b50e3e",
   "metadata": {},
   "outputs": [
    {
     "name": "stdout",
     "output_type": "stream",
     "text": [
      "A\n",
      "D\n"
     ]
    }
   ],
   "source": [
    "# my_list에서 대문자만 화면에 출력하라\n",
    "my_list = [\"A\", \"b\", \"c\", \"D\"]\n",
    "for i in my_list :\n",
    "    if i.isupper() == True :\n",
    "        print(i)"
   ]
  },
  {
   "cell_type": "code",
   "execution_count": 35,
   "id": "5a87285a",
   "metadata": {},
   "outputs": [
    {
     "name": "stdout",
     "output_type": "stream",
     "text": [
      "b\n",
      "c\n"
     ]
    }
   ],
   "source": [
    "# my_list에서 소문자만 화면에 출력하라\n",
    "my_list = [\"A\", \"b\", \"c\", \"D\"]\n",
    "for i in my_list :\n",
    "    if i.isupper() == False :\n",
    "        print(i)"
   ]
  },
  {
   "cell_type": "code",
   "execution_count": 38,
   "id": "1bbf7170",
   "metadata": {},
   "outputs": [
    {
     "name": "stdout",
     "output_type": "stream",
     "text": [
      "aBCd"
     ]
    }
   ],
   "source": [
    "# 리스트의 문자를 대문자는 소문자로, 소문자는 대문자로 변환하라\n",
    "my_list = [\"A\", \"b\", \"c\", \"D\"]\n",
    "for i in my_list :\n",
    "    if i.isupper() == True :\n",
    "        print(i.lower(), end=\"\")\n",
    "    else :\n",
    "        print(i.upper(), end=\"\")"
   ]
  },
  {
   "cell_type": "code",
   "execution_count": 39,
   "id": "21cbb064",
   "metadata": {},
   "outputs": [
    {
     "data": {
      "text/plain": [
       "['A', 'D']"
      ]
     },
     "execution_count": 39,
     "metadata": {},
     "output_type": "execute_result"
    }
   ],
   "source": [
    "# my_list에서 대문자만을 upper_list에 저장하라\n",
    "my_list = [\"A\", \"b\", \"c\", \"D\"]\n",
    "upper_list = []\n",
    "\n",
    "for i in my_list :\n",
    "    if i.isupper() == True :\n",
    "        upper_list.append(i)\n",
    "        \n",
    "upper_list"
   ]
  },
  {
   "cell_type": "code",
   "execution_count": 40,
   "id": "dc081434",
   "metadata": {},
   "outputs": [
    {
     "data": {
      "text/plain": [
       "[3, 44]"
      ]
     },
     "execution_count": 40,
     "metadata": {},
     "output_type": "execute_result"
    }
   ],
   "source": [
    "# my_list에서 양수만 new_list 이름의 리스트에 저장하라\n",
    "my_list = [3, -20, -3, 44]\n",
    "new_list = []\n",
    "for i in my_list :\n",
    "    if i > 0 :\n",
    "        new_list.append(i)\n",
    "new_list"
   ]
  },
  {
   "cell_type": "code",
   "execution_count": 44,
   "id": "59d6105e",
   "metadata": {},
   "outputs": [
    {
     "data": {
      "text/plain": [
       "[3, 4, 5, 6]"
      ]
     },
     "execution_count": 44,
     "metadata": {},
     "output_type": "execute_result"
    }
   ],
   "source": [
    "# my_list의 값을 sole_list에 저장하라. 단 중복된 값은 제거한다\n",
    "my_list = [3, 4, 4, 5, 6, 6]\n",
    "sole_list = []\n",
    "for i in my_list :\n",
    "    if i not in sole_list :\n",
    "        sole_list.append(i)\n",
    "sole_list"
   ]
  },
  {
   "cell_type": "code",
   "execution_count": 45,
   "id": "984ac9a5",
   "metadata": {},
   "outputs": [
    {
     "data": {
      "text/plain": [
       "12"
      ]
     },
     "execution_count": 45,
     "metadata": {},
     "output_type": "execute_result"
    }
   ],
   "source": [
    "# 내장 함수를 사용하지 않고 반복문을 사용해서 my_list에 저장된 모든 수의 합을 출력하라\n",
    "my_list = [3, 4, 5]\n",
    "total = 0\n",
    "for i in my_list :\n",
    "    total += i\n",
    "total"
   ]
  }
 ],
 "metadata": {
  "kernelspec": {
   "display_name": "Python 3 (ipykernel)",
   "language": "python",
   "name": "python3"
  },
  "language_info": {
   "codemirror_mode": {
    "name": "ipython",
    "version": 3
   },
   "file_extension": ".py",
   "mimetype": "text/x-python",
   "name": "python",
   "nbconvert_exporter": "python",
   "pygments_lexer": "ipython3",
   "version": "3.9.12"
  }
 },
 "nbformat": 4,
 "nbformat_minor": 5
}
